{
 "cells": [
  {
   "cell_type": "markdown",
   "id": "b741e5e5-0b48-43bd-ad99-40533d144a4c",
   "metadata": {},
   "source": [
    "# Import Libraries"
   ]
  },
  {
   "cell_type": "code",
   "execution_count": null,
   "id": "bda6aff0-577f-44b9-95bd-30ce54455d7f",
   "metadata": {},
   "outputs": [],
   "source": [
    "import numpy as np \n",
    "import pandas as pd\n",
    "import datetime as dt\n",
    "import io\n",
    "\n",
    "import matplotlib.pyplot as plt\n",
    "import matplotlib.colors as mcolors\n",
    "import seaborn as sns\n",
    "from lifetimes.plotting import plot_period_transactions\n",
    "import plotly.graph_objs as go\n",
    "from plotly.offline import iplot\n",
    "from operator import attrgetter\n",
    "import squarify\n",
    "\n",
    "pd.set_option('display.max_colwidth', None)\n",
    "pd.set_option('display.float_format', lambda x: '%.3f' % x)\n",
    "\n",
    "from IPython.display import Markdown\n",
    "\n",
    "def bold(string):\n",
    "    display(Markdown(string))\n",
    "\n",
    "import warnings\n",
    "warnings.filterwarnings('ignore')"
   ]
  },
  {
   "cell_type": "markdown",
   "id": "582706ad-60ba-418c-98c1-e0aa59846267",
   "metadata": {},
   "source": [
    "# Load Data"
   ]
  },
  {
   "cell_type": "code",
   "execution_count": null,
   "id": "122293bc-383f-452e-af4a-2bc28d4f60cc",
   "metadata": {},
   "outputs": [],
   "source": [
    "df = pd.read_csv(\"/mnt/hdd/Datasets/online_retail_II.csv\")\n",
    "df.head()"
   ]
  },
  {
   "cell_type": "code",
   "execution_count": null,
   "id": "2f021b95-73a0-4b33-9b35-c185ad4b712b",
   "metadata": {},
   "outputs": [],
   "source": [
    "def df_stats(data):\n",
    "    bold(\"**\" + \" SHAPE \".center(50, \"#\") + \"**\")\n",
    "    print(\"ROWS: {}\".format(data.shape[0]))\n",
    "    print(\"COLUMNS: {}\".format(data.shape[1]))\n",
    "    bold(\"**\" + \" TYPES \".center(50, \"#\") + \"**\")\n",
    "    print(data.dtypes)\n",
    "    bold(\"**\" + \" MISSING VALUES \".center(50, \"#\") + \"**\")\n",
    "    print(data.isnull().sum())\n",
    "    bold(\"**\" + \" DUPLICATED VALUES \".center(50, \"#\") + \"**\")\n",
    "    print(\"NUMBER OF DUPLICATED VALUES: {}\".format(data.duplicated().sum()))\n",
    "    bold(\"**\" + \" MEMORY USAGE \".center(50, \"#\") + \"**\")\n",
    "    buf = io.StringIO()\n",
    "    data.info(buf=buf)\n",
    "    info = buf.getvalue().split(\"\\n\")[-2].split(\":\")[1].strip()\n",
    "    print(\"Memory Usage: {}\".format(info))\n",
    "    bold(\"**\" + \" DESCRIBE \".center(50, \"#\") + \"**\")\n",
    "    print(data.describe().T)"
   ]
  },
  {
   "cell_type": "code",
   "execution_count": null,
   "id": "6cce81b5-3696-450c-bd69-4312b7e2f158",
   "metadata": {},
   "outputs": [],
   "source": [
    "df_stats(df)"
   ]
  },
  {
   "cell_type": "markdown",
   "id": "90f1c905-8b53-48cf-8db2-3bd78a2a6a37",
   "metadata": {},
   "source": [
    "# Outlier Detection"
   ]
  },
  {
   "cell_type": "code",
   "execution_count": null,
   "id": "4f5b04ce-8549-415e-ac01-4b408fccbfdd",
   "metadata": {},
   "outputs": [],
   "source": [
    "def outlier_thresholds(dataframe, variable):\n",
    "    quartile1 = dataframe[variable].quantile(0.01)\n",
    "    quartile3 = dataframe[variable].quantile(0.99)\n",
    "    interquantile_range = quartile3 - quartile1\n",
    "    up_limit = quartile3 + 1.5 * interquantile_range\n",
    "    low_limit = quartile1 - 1.5 * interquantile_range\n",
    "    return low_limit, up_limit\n",
    "\n",
    "\n",
    "def replace_with_thresholds(dataframe, variable):\n",
    "    low_limit, up_limit = outlier_thresholds(dataframe, variable)\n",
    "    dataframe.loc[(dataframe[variable] < low_limit), variable] = low_limit\n",
    "    dataframe.loc[(dataframe[variable] > up_limit), variable] = up_limit\n",
    "    \n",
    "replace_with_thresholds(df, \"Quantity\")\n",
    "replace_with_thresholds(df, \"Price\")"
   ]
  },
  {
   "cell_type": "markdown",
   "id": "a8a83bc3-97e6-4889-810d-34c66cefaffe",
   "metadata": {},
   "source": [
    "# Data Preprocess"
   ]
  },
  {
   "cell_type": "code",
   "execution_count": null,
   "id": "9d276283-b954-437d-9043-ae2633d598ee",
   "metadata": {},
   "outputs": [],
   "source": [
    "df.dropna(inplace=True)"
   ]
  },
  {
   "cell_type": "code",
   "execution_count": null,
   "id": "4f567c3b-1fb9-4726-bb76-c4da78dc1b85",
   "metadata": {},
   "outputs": [],
   "source": [
    "df = df[~df[\"Invoice\"].astype(str).str.contains(\"C\", na=False)]\n",
    "df.info()"
   ]
  },
  {
   "cell_type": "code",
   "execution_count": null,
   "id": "8d42df29-a488-4191-8769-c0529c8b43f9",
   "metadata": {},
   "outputs": [],
   "source": [
    "df[\"InvoiceDate\"] = df[\"InvoiceDate\"].apply(pd.to_datetime)"
   ]
  },
  {
   "cell_type": "markdown",
   "id": "b199785a-b1d2-4668-ad77-1a2493e58fdd",
   "metadata": {},
   "source": [
    "# Cohort Analysis"
   ]
  },
  {
   "cell_type": "code",
   "execution_count": null,
   "id": "050f2ac2-8c3b-4446-b572-ff24a11d227f",
   "metadata": {},
   "outputs": [],
   "source": [
    "df[\"InvoiceMonth\"] = df[\"InvoiceDate\"].dt.to_period(\"M\")"
   ]
  },
  {
   "cell_type": "code",
   "execution_count": null,
   "id": "be93262c-c18d-4765-ad1d-12dd06059547",
   "metadata": {},
   "outputs": [],
   "source": [
    "df[\"Cohort\"] = df.groupby(\"Customer ID\")[\"InvoiceDate\"].transform(\"min\").dt.to_period(\"M\")"
   ]
  },
  {
   "cell_type": "code",
   "execution_count": null,
   "id": "4a4d391c-7704-4c0b-b4fa-57de73b3f48f",
   "metadata": {},
   "outputs": [],
   "source": [
    "df_cohort = df.groupby(['Cohort', 'InvoiceMonth'], as_index=False).agg(n_customers=('Customer ID', 'nunique')).reset_index(drop=False)"
   ]
  },
  {
   "cell_type": "code",
   "execution_count": null,
   "id": "66c878e3-1c9b-446d-866e-4ce2eff9ace0",
   "metadata": {},
   "outputs": [],
   "source": [
    "df_cohort.head()"
   ]
  },
  {
   "cell_type": "code",
   "execution_count": null,
   "id": "0e838c4f-a8c2-4056-b042-55418eed9758",
   "metadata": {},
   "outputs": [],
   "source": [
    "df_cohort[\"period\"] = (df_cohort[\"InvoiceMonth\"] - df_cohort[\"Cohort\"]).apply(attrgetter(\"n\"))"
   ]
  },
  {
   "cell_type": "code",
   "execution_count": null,
   "id": "22f31bbc-f2f2-4d70-afa1-5181ee363370",
   "metadata": {},
   "outputs": [],
   "source": [
    "df_cohort.head()"
   ]
  },
  {
   "cell_type": "code",
   "execution_count": null,
   "id": "ffffc0d7-219e-4188-9e68-7d0b36469d00",
   "metadata": {},
   "outputs": [],
   "source": [
    "cohort_pivot = df_cohort.pivot_table(index=\"Cohort\", columns=\"period\", values=\"n_customers\")\n",
    "cohort_pivot"
   ]
  },
  {
   "cell_type": "code",
   "execution_count": null,
   "id": "6f72e495-6994-48ba-8d12-8ef4886a4916",
   "metadata": {},
   "outputs": [],
   "source": [
    "cohort_size = cohort_pivot.iloc[:, 0]\n",
    "cohort_size"
   ]
  },
  {
   "cell_type": "code",
   "execution_count": null,
   "id": "fc7dd67a-2c54-4c88-a582-fc9a30c74a04",
   "metadata": {},
   "outputs": [],
   "source": [
    "retention_matrix = cohort_pivot.divide(cohort_size, axis=0)"
   ]
  },
  {
   "cell_type": "code",
   "execution_count": null,
   "id": "a03eb3d3-1317-4276-a958-66a0b3310132",
   "metadata": {},
   "outputs": [],
   "source": [
    "with sns.axes_style(\"white\"):\n",
    "    fig, ax = plt.subplots(1, 2, figsize=(12, 8), sharey=True, gridspec_kw={\"width_ratios\": [1, 11]})\n",
    "    sns.heatmap(retention_matrix, mask=retention_matrix.isnull(), annot=True, cbar=False, fmt=\".0%\", cmap=\"coolwarm\", ax=ax[1])\n",
    "    ax[1].set_title(\"Monthly Cohorts: User Retention\", fontsize=14)\n",
    "    ax[1].set(xlabel=\"# of periods\", ylabel=\"\")\n",
    "    white_cmap = mcolors.ListedColormap([\"white\"])\n",
    "    sns.heatmap(pd.DataFrame(cohort_size).rename(columns={0: \"cohort_size\"}),annot=True,cbar=False,fmt=\"g\",cmap=white_cmap,ax=ax[0])\n",
    "    fig.tight_layout()"
   ]
  },
  {
   "cell_type": "markdown",
   "id": "6f14a7d8-c725-45bb-a1de-dd22d567e317",
   "metadata": {},
   "source": [
    "# RFM Analysis"
   ]
  },
  {
   "cell_type": "code",
   "execution_count": null,
   "id": "16607374-0184-4c6d-9893-a83e4fcd9067",
   "metadata": {},
   "outputs": [],
   "source": [
    "df[\"InvoiceDate\"].max()"
   ]
  },
  {
   "cell_type": "code",
   "execution_count": null,
   "id": "d00c98ba-47a6-4590-950f-cce6cd756616",
   "metadata": {},
   "outputs": [],
   "source": [
    "df[\"TotalPrice\"] = df[\"Quantity\"] * df[\"Price\"]"
   ]
  },
  {
   "cell_type": "code",
   "execution_count": null,
   "id": "d0a8d2bc-5069-4702-bb5d-b21f31502965",
   "metadata": {},
   "outputs": [],
   "source": [
    "today_date = dt.datetime(2011, 12, 10)"
   ]
  },
  {
   "cell_type": "code",
   "execution_count": null,
   "id": "fbac72ac-52bb-4839-ac1c-95d9bd6c8cd9",
   "metadata": {},
   "outputs": [],
   "source": [
    "rfm = df.groupby(\"Customer ID\", as_index=False).agg({\n",
    "    \"InvoiceDate\": lambda x: (today_date - x.max()).days,\n",
    "    \"Invoice\": lambda x: x.nunique(),\n",
    "    \"TotalPrice\": lambda x: x.sum()\n",
    "})\n",
    "\n",
    "rfm.columns = [\"Customer ID\", \"Recency\", \"Frequency\", \"Monetary\"]\n",
    "rfm = rfm[rfm[\"Monetary\"] > 0]\n",
    "rfm.head()"
   ]
  },
  {
   "cell_type": "code",
   "execution_count": null,
   "id": "7a5420bb-cd0a-4742-9b32-88f124e0f5e5",
   "metadata": {},
   "outputs": [],
   "source": [
    "rfm[\"RecencyScore\"] = pd.qcut(rfm[\"Recency\"], 5, labels=[5,4,3,2,1])\n",
    "rfm[\"FrequencyScore\"] = pd.qcut(rfm[\"Frequency\"].rank(method=\"first\"), 5, labels=[1,2,3,4,5])\n",
    "rfm[\"MonetaryScore\"] = pd.qcut(rfm[\"Monetary\"], 5, labels=[1,2,3,4,5])\n",
    "rfm[\"RFM\"] = rfm[\"RecencyScore\"].astype(str) + rfm[\"FrequencyScore\"].astype(str)"
   ]
  },
  {
   "cell_type": "code",
   "execution_count": null,
   "id": "8dc07e86-c681-4e7b-835b-85e8bca8e0ce",
   "metadata": {},
   "outputs": [],
   "source": [
    "rfm.head()"
   ]
  },
  {
   "cell_type": "markdown",
   "id": "08e4e46c-6dda-4dc1-9700-7b3f42cfca94",
   "metadata": {},
   "source": [
    "# CLV"
   ]
  },
  {
   "cell_type": "code",
   "execution_count": null,
   "id": "41ffab19-4815-40f4-9b23-25c54f59a98e",
   "metadata": {},
   "outputs": [],
   "source": [
    "cltv = df.groupby(\"Customer ID\", as_index=False).agg({\n",
    "    \"Invoice\": lambda x: x.nunique(),\n",
    "    \"Quantity\": lambda x: x.sum(),\n",
    "    \"TotalPrice\": lambda x: x.sum()\n",
    "})\n",
    "\n",
    "cltv.columns = [\"Customer ID\", \"TotalTransaction\", \"TotalUnit\", \"TotalPrice\"]\n",
    "cltv.head()"
   ]
  },
  {
   "cell_type": "code",
   "execution_count": null,
   "id": "a7ef3571-83ec-427b-9f8d-cf5d72f000e2",
   "metadata": {},
   "outputs": [],
   "source": [
    "cltv[\"AverageOrderValue\"] = cltv[\"TotalPrice\"] / cltv[\"TotalTransaction\"]\n",
    "cltv[\"PurchaseFrequency\"] = cltv[\"TotalTransaction\"] / cltv.shape[0]\n",
    "repeat_rate = cltv[cltv[\"TotalTransaction\"] > 1].shape[0] / cltv.shape[0]\n",
    "churn_rate = 1 - repeat_rate\n",
    "cltv[\"ProfitMargin\"] = cltv[\"TotalPrice\"] * 0.1\n",
    "cltv[\"CustomerValue\"] = cltv[\"AverageOrderValue\"] * cltv[\"PurchaseFrequency\"]\n",
    "cltv[\"CLV\"] = (cltv[\"CustomerValue\"] / churn_rate) * cltv[\"ProfitMargin\"]\n",
    "cltv[\"Segment\"] = pd.qcut(cltv[\"CLV\"], 4, labels=[\"class D\", \"class C\", \"class B\", \"classA\"])\n",
    "cltv.groupby(\"Segment\", as_index=False).agg({\"count\", \"mean\", \"sum\"})"
   ]
  },
  {
   "cell_type": "code",
   "execution_count": null,
   "id": "bdb7e504-a8f2-439a-9681-b9c11a956c75",
   "metadata": {},
   "outputs": [],
   "source": []
  }
 ],
 "metadata": {
  "kernelspec": {
   "display_name": "Python 3 (ipykernel)",
   "language": "python",
   "name": "python3"
  },
  "language_info": {
   "codemirror_mode": {
    "name": "ipython",
    "version": 3
   },
   "file_extension": ".py",
   "mimetype": "text/x-python",
   "name": "python",
   "nbconvert_exporter": "python",
   "pygments_lexer": "ipython3",
   "version": "3.10.12"
  }
 },
 "nbformat": 4,
 "nbformat_minor": 5
}
